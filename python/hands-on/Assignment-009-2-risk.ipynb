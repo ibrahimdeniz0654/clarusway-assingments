
age = input("Are you a cigarette addict older than 75 years old? (Yes Or No): " ).capitalize()

chronic = input("Do you have a severe chronic disease?(Yes Or No): " ).capitalize()

immune = input("Is your immune system too weak?(Yes Or No): " ).capitalize()

risk = (age == "Yes") or (chronic == "Yes") or (immune == "Yes")

if risk : 
    print("You are in risky group")
    
else : 
    print("You are not in risky group")
