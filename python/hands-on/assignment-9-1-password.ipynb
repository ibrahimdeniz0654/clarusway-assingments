password = "kalabari54"
name = "ibrahim"

namecheck = input("Please Enter a name : ")

if namecheck == name :
    print("Hello ", namecheck, ","," Your Password : ", password )
    
else : 
    print("Hello" ",", namecheck, "See you later")
