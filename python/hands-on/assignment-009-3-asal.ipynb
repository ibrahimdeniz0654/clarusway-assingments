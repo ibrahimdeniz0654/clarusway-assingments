sorgu = int(input("Lütfen Bir Tamsayı sorgu = int(input("Lütfen Bir Tamsayı giriniz:"))
if sorgu > 1:
  for i in range(2, sorgu):
if (sorgu %i) == 0:
           print(sorgu," Asal Sayı Değildir.")
           break
   else:
       print(sorgu," Asal Sayıdır.")
 else:
   print(sorgu," Asal Sayı Değildir.")giriniz:"))
if sorgu > 1:
  for i in range(2, sorgu):
if (sorgu %i) == 0:
           print(sorgu," Asal Sayı Değildir.")
           break
   else:
       print(sorgu," Asal Sayıdır.")
 else:
   print(sorgu," Asal Sayı Değildir.")
